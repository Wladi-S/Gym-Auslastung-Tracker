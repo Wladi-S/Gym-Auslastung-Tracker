{
 "cells": [
  {
   "cell_type": "code",
   "execution_count": 4,
   "metadata": {},
   "outputs": [],
   "source": [
    "import requests\n",
    "import json\n",
    "import csv\n",
    "from datetime import datetime\n",
    "import pandas as pd"
   ]
  },
  {
   "cell_type": "code",
   "execution_count": 5,
   "metadata": {},
   "outputs": [],
   "source": [
    "gym_nr = [11,21,7,12,20,23,13,24,1]\n",
    "values_remove = ['gym', 'name', 'workload']"
   ]
  },
  {
   "cell_type": "code",
   "execution_count": 6,
   "metadata": {},
   "outputs": [],
   "source": [
    "def get_data(nummer):\n",
    "    \"\"\"Datenabfrage der Auslastung des jeweiligen Gyms\"\"\"\n",
    "    \n",
    "    url = \"https://portal.aidoo-online.de/workload\"\n",
    "    parameter = {\"mandant\": \"201900141_fitnesswerk_hassloch\", \"stud_nr\": nummer, \"jsonResponse\": 1}\n",
    "    response = requests.Session().get(url, params=parameter).json()\n",
    "    return response"
   ]
  },
  {
   "cell_type": "code",
   "execution_count": 7,
   "metadata": {},
   "outputs": [],
   "source": [
    "df = pd.DataFrame(columns=['GymID', 'Name', 'Auslastung', 'Datum', 'Zeit'])"
   ]
  },
  {
   "cell_type": "code",
   "execution_count": 8,
   "metadata": {},
   "outputs": [],
   "source": [
    "def in_csv_speichern(name, df):\n",
    "    \"\"\"Nimmt das DF und speichert es in eine CSV\n",
    "    Checke ob CSV existiert, wenn nicht erstellen und befüllen\"\"\"\n",
    "    \n",
    "    file = f'CSV/{name}.csv'\n",
    "    print(df)\n",
    "    \n",
    "    try:\n",
    "        f = open(file, 'r')\n",
    "        print(\"Datei existiert\")\n",
    "    except IOError:\n",
    "        with open(file, 'w') as csvfile:\n",
    "            fieldnames = list(df)\n",
    "            writer = csv.DictWriter(csvfile, fieldnames=fieldnames)\n",
    "            writer.writeheader()\n",
    "        print(\"Datei erstellt\")\n",
    "    \n",
    "    df.to_csv(file, mode='a', index=False, header=False)"
   ]
  },
  {
   "cell_type": "code",
   "execution_count": 11,
   "metadata": {},
   "outputs": [],
   "source": [
    "def in_json_speichern(name):\n",
    "    \n",
    "    file = f'JSON/{name}.json'\n",
    "\n",
    "    try:\n",
    "        f = open(file, 'r')\n",
    "        print(\"Datei existiert\")\n",
    "    except IOError:\n",
    "        with open(file, mode='w', encoding='utf-8') as json_file:\n",
    "            json.dump([], json_file)\n",
    "        print(\"Datei erstellt\")\n",
    "\n",
    "    with open(file, 'r') as json_file:\n",
    "        json_data = json.load(json_file)\n",
    "        json_data.append(get_data(name))\n",
    "        print(json_data)\n",
    "\n",
    "    with open(file, 'w', encoding='utf-8') as json_file:\n",
    "        json.dump(json_data, json_file)"
   ]
  },
  {
   "cell_type": "code",
   "execution_count": null,
   "metadata": {},
   "outputs": [],
   "source": []
  },
  {
   "cell_type": "code",
   "execution_count": 12,
   "metadata": {},
   "outputs": [
    {
     "name": "stdout",
     "output_type": "stream",
     "text": [
      "  GymID       Name  Auslastung       Datum      Zeit\n",
      "0    11  Edenkoben       19.29  2023-03-16  21:08:34\n",
      "1    11  Edenkoben       18.57  2023-03-16  21:10:04\n",
      "Datei existiert\n",
      "Datei erstellt\n",
      "[{'gym': 11, 'name': 'Bella Vitalis GmbH Edenkoben', 'workload': '18,57 %', 'numval': '18.57'}]\n",
      "  GymID   Name  Auslastung       Datum      Zeit\n",
      "0    21  Wörth       13.04  2023-03-16  21:10:04\n",
      "Datei existiert\n",
      "Datei erstellt\n",
      "[{'gym': 21, 'name': 'Bella Vitalis GmbH Wörth', 'workload': '13,04 %', 'numval': '13.04'}]\n",
      "  GymID       Name  Auslastung       Datum      Zeit\n",
      "0     7  Offenbach         0.0  2023-03-16  21:10:05\n",
      "Datei existiert\n",
      "Datei erstellt\n",
      "[{'gym': 7, 'name': 'Bella Vitalis GmbH Offenbach', 'workload': '0,00 %', 'numval': '0.00'}]\n",
      "  GymID              Name  Auslastung       Datum      Zeit\n",
      "0    12  Marie-Curie-Str.       13.46  2023-03-16  21:10:05\n",
      "Datei existiert\n",
      "Datei erstellt\n",
      "[{'gym': 12, 'name': 'Bella Vitalis GmbH Marie-Curie-Str.', 'workload': '13,46 %', 'numval': '13.46'}]\n",
      "  GymID      Name  Auslastung       Datum      Zeit\n",
      "0    20  Bellheim       16.67  2023-03-16  21:10:05\n",
      "Datei existiert\n",
      "Datei erstellt\n",
      "[{'gym': 20, 'name': 'Bella Vitalis GmbH Bellheim', 'workload': '16,67 %', 'numval': '16.67'}]\n",
      "  GymID      Name  Auslastung       Datum      Zeit\n",
      "0    23  Herxheim       20.83  2023-03-16  21:10:06\n",
      "Datei existiert\n",
      "Datei erstellt\n",
      "[{'gym': 23, 'name': 'Bella Vitalis GmbH Herxheim', 'workload': '20,83 %', 'numval': '20.83'}]\n",
      "  GymID                  Name  Auslastung       Datum      Zeit\n",
      "0    13  Albert-Einstein-Str.       15.45  2023-03-16  21:10:06\n",
      "Datei existiert\n",
      "Datei erstellt\n",
      "[{'gym': 13, 'name': 'Bella Vitalis GmbH Albert-Einstein-Str.', 'workload': '15,45 %', 'numval': '15.45'}]\n",
      "  GymID        Name  Auslastung       Datum      Zeit\n",
      "0    24  Dudenhofen       15.48  2023-03-16  21:10:06\n",
      "Datei existiert\n",
      "Datei erstellt\n",
      "[{'gym': 24, 'name': 'Bella Vitalis GmbH Dudenhofen', 'workload': '15,48 %', 'numval': '15.48'}]\n",
      "  GymID            Name  Auslastung       Datum      Zeit\n",
      "0     1  Bad Bergzabern       18.33  2023-03-16  21:10:06\n",
      "Datei existiert\n",
      "Datei erstellt\n",
      "[{'gym': 1, 'name': 'Bella Vitalis GmbH Bad Bergzabern', 'workload': '18,33 %', 'numval': '18.33'}]\n"
     ]
    }
   ],
   "source": [
    "for element in gym_nr:\n",
    "    response = get_data(element)\n",
    "\n",
    "    gymID = response['gym']\n",
    "    name = response['name'].split(\"H \")[-1]\n",
    "    workload = float(response['numval'])\n",
    "    date = datetime.now().strftime('%Y-%m-%d')\n",
    "    time = datetime.now().strftime('%H:%M:%S')\n",
    "    \n",
    "    \"\"\"Daten ins DF hinzufügen\"\"\"\n",
    "    df = df.append({'GymID': gymID, 'Name': name, 'Auslastung': workload, 'Datum': date, 'Zeit': time}, ignore_index = True)\n",
    "    in_csv_speichern(element, df)\n",
    "    in_json_speichern(element)\n",
    "    \"\"\"DF leeren\"\"\"\n",
    "    df = df.iloc[0:0]"
   ]
  },
  {
   "cell_type": "code",
   "execution_count": null,
   "metadata": {},
   "outputs": [],
   "source": [
    "df = df.iloc[0:0]"
   ]
  }
 ],
 "metadata": {
  "kernelspec": {
   "display_name": "base",
   "language": "python",
   "name": "python3"
  },
  "language_info": {
   "codemirror_mode": {
    "name": "ipython",
    "version": 3
   },
   "file_extension": ".py",
   "mimetype": "text/x-python",
   "name": "python",
   "nbconvert_exporter": "python",
   "pygments_lexer": "ipython3",
   "version": "3.9.7"
  },
  "orig_nbformat": 4
 },
 "nbformat": 4,
 "nbformat_minor": 2
}
